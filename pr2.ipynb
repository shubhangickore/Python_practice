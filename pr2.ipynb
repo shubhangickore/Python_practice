{
  "nbformat": 4,
  "nbformat_minor": 0,
  "metadata": {
    "colab": {
      "provenance": [],
      "authorship_tag": "ABX9TyMHErTJDv1KXMdKuHY2AsI3",
      "include_colab_link": true
    },
    "kernelspec": {
      "name": "python3",
      "display_name": "Python 3"
    },
    "language_info": {
      "name": "python"
    }
  },
  "cells": [
    {
      "cell_type": "markdown",
      "metadata": {
        "id": "view-in-github",
        "colab_type": "text"
      },
      "source": [
        "<a href=\"https://colab.research.google.com/github/shubhangickore/Python_practice/blob/main/pr2.ipynb\" target=\"_parent\"><img src=\"https://colab.research.google.com/assets/colab-badge.svg\" alt=\"Open In Colab\"/></a>"
      ]
    },
    {
      "cell_type": "code",
      "execution_count": null,
      "metadata": {
        "colab": {
          "base_uri": "https://localhost:8080/"
        },
        "id": "2TeQF5mJLRsB",
        "outputId": "560c8dd3-9330-4f15-d45d-952b5db7ec18"
      },
      "outputs": [
        {
          "output_type": "stream",
          "name": "stdout",
          "text": [
            "hello world\n"
          ]
        }
      ],
      "source": [
        "print(\"hello world\")"
      ]
    },
    {
      "cell_type": "code",
      "source": [
        "a =10\n",
        "if a>5 :\n",
        "      print('true')"
      ],
      "metadata": {
        "id": "BOUk_JbIM8IO",
        "colab": {
          "base_uri": "https://localhost:8080/"
        },
        "outputId": "2de77a5c-ca10-434a-de96-0d08ea8d498c"
      },
      "execution_count": null,
      "outputs": [
        {
          "output_type": "stream",
          "name": "stdout",
          "text": [
            "true\n"
          ]
        }
      ]
    },
    {
      "cell_type": "code",
      "source": [
        "import pandas as pd\n",
        "import numpy as np\n",
        "\n",
        "def compute_max_employees_during_tenure(df):\n",
        "    \"\"\"\n",
        "    df has columns: employee_id, hire_date (datetime), termination_date (datetime or NaT)\n",
        "    Returns DataFrame with employee_id, max_employees, first_date_of_max\n",
        "    \"\"\"\n",
        "    # 1. Prepare events list\n",
        "    events = []\n",
        "    for _, row in df.iterrows():\n",
        "        emp = row['employee_id']\n",
        "        h = row['hire_date']\n",
        "        t = row['termination_date']\n",
        "        # Hire event\n",
        "        events.append((h, +1, emp))\n",
        "        # Termination event: we do not include the termination date as working day\n",
        "        if pd.notnull(t):\n",
        "            # event at t with -1\n",
        "            events.append((t, -1, emp))\n",
        "\n",
        "    # 2. Create DataFrame of events\n",
        "    events_df = pd.DataFrame(events, columns=['date', 'delta', 'employee_id'])\n",
        "    # Sort by date, and for same date, apply +1 before -1 (so hires counted before fires)\n",
        "    events_df = events_df.sort_values(by=['date', 'delta'], ascending=[True, False])\n",
        "    events_df = events_df.reset_index(drop=True)\n",
        "\n",
        "    # 3. Compute running count of employees\n",
        "    events_df['running_total'] = events_df['delta'].cumsum()\n",
        "\n",
        "    # Also keep track of for each event, what the running_total is\n",
        "    # Now we want, for each date, how many employees were working just after that event\n",
        "\n",
        "    # 4. For each employee, filter the slice of events between their hire_date (inclusive)\n",
        "    #    and termination_date (exclusive), find the maximum running_total and first date\n",
        "    results = []\n",
        "    for _, row in df.iterrows():\n",
        "        emp = row['employee_id']\n",
        "        h = row['hire_date']\n",
        "        t = row['termination_date']\n",
        "        # Filter events in [h, t) — if t is NaT, then take all events >= h\n",
        "        if pd.isnull(t):\n",
        "            slice_ev = events_df[events_df['date'] >= h]\n",
        "        else:\n",
        "            slice_ev = events_df[(events_df['date'] >= h) & (events_df['date'] < t)]\n",
        "\n",
        "        if slice_ev.empty:\n",
        "            # If somehow no events in that period, fallback\n",
        "            results.append({'employee_id': emp, 'max_employees': 0, 'first_date_of_max': h})\n",
        "        else:\n",
        "            # find the max running_total\n",
        "            max_val = slice_ev['running_total'].max()\n",
        "            # find first date where running_total == max_val\n",
        "            first_date = slice_ev[slice_ev['running_total'] == max_val]['date'].iloc[0]\n",
        "            results.append({'employee_id': emp, 'max_employees': int(max_val), 'first_date_of_max': first_date})\n",
        "\n",
        "    return pd.DataFrame(results)\n",
        "\n",
        "# Example usage:\n",
        "data = {\n",
        "    'employee_id': [1,2,3],\n",
        "    'hire_date': pd.to_datetime(['2018-01-10', '2019-03-20', '2020-01-05']),\n",
        "    'termination_date': pd.to_datetime(['2020-06-15', None, '2021-12-01'])\n",
        "}\n",
        "df = pd.DataFrame(data)\n",
        "out = compute_max_employees_during_tenure(df)\n",
        "print(out)\n"
      ],
      "metadata": {
        "id": "qFg2mrbEM7uG",
        "colab": {
          "base_uri": "https://localhost:8080/"
        },
        "outputId": "91e98c40-c4ce-4c12-fbca-b23428086633"
      },
      "execution_count": null,
      "outputs": [
        {
          "output_type": "stream",
          "name": "stdout",
          "text": [
            "   employee_id  max_employees first_date_of_max\n",
            "0            1              3        2020-01-05\n",
            "1            2              3        2020-01-05\n",
            "2            3              3        2020-01-05\n"
          ]
        }
      ]
    },
    {
      "cell_type": "code",
      "source": [
        "import pandas as pd\n",
        "df = pd.DataFrame({\n",
        "    'city':[\"pune\",\"mumbai\",\"pune\",\"bangalore\"],\n",
        "    'rides':[15,20,5,33]\n",
        "})\n",
        "\n",
        "df.groupby('city')['rides'].sum()"
      ],
      "metadata": {
        "id": "7DYN3YKwQANB",
        "outputId": "0023ae4d-289c-4707-9b1a-47f6fad4a02c",
        "colab": {
          "base_uri": "https://localhost:8080/",
          "height": 210
        }
      },
      "execution_count": null,
      "outputs": [
        {
          "output_type": "execute_result",
          "data": {
            "text/plain": [
              "city\n",
              "bangalore    33\n",
              "mumbai       20\n",
              "pune         20\n",
              "Name: rides, dtype: int64"
            ],
            "text/html": [
              "<div>\n",
              "<style scoped>\n",
              "    .dataframe tbody tr th:only-of-type {\n",
              "        vertical-align: middle;\n",
              "    }\n",
              "\n",
              "    .dataframe tbody tr th {\n",
              "        vertical-align: top;\n",
              "    }\n",
              "\n",
              "    .dataframe thead th {\n",
              "        text-align: right;\n",
              "    }\n",
              "</style>\n",
              "<table border=\"1\" class=\"dataframe\">\n",
              "  <thead>\n",
              "    <tr style=\"text-align: right;\">\n",
              "      <th></th>\n",
              "      <th>rides</th>\n",
              "    </tr>\n",
              "    <tr>\n",
              "      <th>city</th>\n",
              "      <th></th>\n",
              "    </tr>\n",
              "  </thead>\n",
              "  <tbody>\n",
              "    <tr>\n",
              "      <th>bangalore</th>\n",
              "      <td>33</td>\n",
              "    </tr>\n",
              "    <tr>\n",
              "      <th>mumbai</th>\n",
              "      <td>20</td>\n",
              "    </tr>\n",
              "    <tr>\n",
              "      <th>pune</th>\n",
              "      <td>20</td>\n",
              "    </tr>\n",
              "  </tbody>\n",
              "</table>\n",
              "</div><br><label><b>dtype:</b> int64</label>"
            ]
          },
          "metadata": {},
          "execution_count": 9
        }
      ]
    },
    {
      "cell_type": "code",
      "source": [
        "from scipy.stats import ttest_ind\n",
        "\n",
        "group1 = [33, 11, 22, 44]\n",
        "group2 = [21, 31, 41, 51]\n",
        "\n",
        "t_stat,p_val = ttest_ind(group1,group2)\n",
        "print(t_stat,p_val)\n"
      ],
      "metadata": {
        "colab": {
          "base_uri": "https://localhost:8080/"
        },
        "id": "Q6FyhLYuXGvR",
        "outputId": "3d0caa0e-ddbb-45b5-8988-8ac9c272380f"
      },
      "execution_count": 5,
      "outputs": [
        {
          "output_type": "stream",
          "name": "stdout",
          "text": [
            "-0.8857851797221404 0.4098264210613309\n"
          ]
        }
      ]
    }
  ]
}